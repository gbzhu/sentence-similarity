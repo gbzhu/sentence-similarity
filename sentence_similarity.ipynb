{
 "cells": [
  {
   "cell_type": "code",
   "execution_count": 1,
   "id": "blessed-jerusalem",
   "metadata": {
    "execution": {
     "iopub.execute_input": "2021-01-26T06:10:57.965908Z",
     "iopub.status.busy": "2021-01-26T06:10:57.965449Z",
     "iopub.status.idle": "2021-01-26T06:10:58.814714Z",
     "shell.execute_reply": "2021-01-26T06:10:58.814203Z",
     "shell.execute_reply.started": "2021-01-26T06:10:57.965804Z"
    }
   },
   "outputs": [],
   "source": [
    "import nltk"
   ]
  },
  {
   "cell_type": "code",
   "execution_count": 2,
   "id": "several-current",
   "metadata": {
    "execution": {
     "iopub.execute_input": "2021-01-26T06:10:59.476014Z",
     "iopub.status.busy": "2021-01-26T06:10:59.475827Z",
     "iopub.status.idle": "2021-01-26T06:10:59.479417Z",
     "shell.execute_reply": "2021-01-26T06:10:59.478761Z",
     "shell.execute_reply.started": "2021-01-26T06:10:59.475993Z"
    }
   },
   "outputs": [],
   "source": [
    "class Sentence:\n",
    "    def __init__(self, s):\n",
    "        self.raw = s\n",
    "        normalized_sentence = s.replace(\"‘\", \"'\").replace(\"’\", \"'\")\n",
    "        self.tokens = [t.lower() for t in nltk.word_tokenize(normalized_sentence)]"
   ]
  },
  {
   "cell_type": "code",
   "execution_count": 3,
   "id": "psychological-brake",
   "metadata": {
    "execution": {
     "iopub.execute_input": "2021-01-26T06:11:01.009527Z",
     "iopub.status.busy": "2021-01-26T06:11:01.009292Z",
     "iopub.status.idle": "2021-01-26T06:11:01.016478Z",
     "shell.execute_reply": "2021-01-26T06:11:01.015628Z",
     "shell.execute_reply.started": "2021-01-26T06:11:01.009501Z"
    }
   },
   "outputs": [],
   "source": [
    "import math\n",
    "from collections import Counter\n",
    "\n",
    "import numpy as np\n",
    "from sklearn.metrics.pairwise import cosine_similarity\n",
    "\n",
    "\n",
    "def run_avg_benchmark(sentences1, sentences2, model=None):\n",
    "\n",
    "    sim = 0\n",
    "\n",
    "    tokens1 = sentences1.tokens\n",
    "    tokens2 = sentences2.tokens\n",
    "\n",
    "    tokens1 = [token for token in tokens1 if token in model]\n",
    "    tokens2 = [token for token in tokens2 if token in model]\n",
    "\n",
    "    if len(tokens1) == 0 or len(tokens2) == 0:\n",
    "        return sim\n",
    "\n",
    "    tokfreqs1 = Counter(tokens1)\n",
    "    tokfreqs2 = Counter(tokens2)\n",
    "\n",
    "    weights1 = None\n",
    "    weights2 = None\n",
    "\n",
    "    embedding1 = np.average(\n",
    "        [model[token] for token in tokfreqs1], axis=0, weights=weights1\n",
    "    ).reshape(1, -1)\n",
    "    embedding2 = np.average(\n",
    "        [model[token] for token in tokfreqs2], axis=0, weights=weights2\n",
    "    ).reshape(1, -1)\n",
    "\n",
    "    sim = cosine_similarity(embedding1, embedding2)[0][0]\n",
    "    return sim"
   ]
  },
  {
   "cell_type": "code",
   "execution_count": 11,
   "id": "yellow-definition",
   "metadata": {
    "execution": {
     "iopub.execute_input": "2021-01-26T06:13:13.092694Z",
     "iopub.status.busy": "2021-01-26T06:13:13.092408Z",
     "iopub.status.idle": "2021-01-26T06:13:13.099441Z",
     "shell.execute_reply": "2021-01-26T06:13:13.098048Z",
     "shell.execute_reply.started": "2021-01-26T06:13:13.092664Z"
    }
   },
   "outputs": [],
   "source": [
    "def run_wmd_benchmark(sentences1, sentences2, model):\n",
    "    sim = 0\n",
    "\n",
    "    tokens1 = sentences1.tokens\n",
    "    tokens2 = sentences2.tokens\n",
    "\n",
    "    tokens1 = [token for token in tokens1 if token in model]\n",
    "    tokens2 = [token for token in tokens2 if token in model]\n",
    "\n",
    "    if len(tokens1) == 0 or len(tokens2) == 0:\n",
    "        tokens1 = [token for token in sent1.tokens if token in model]\n",
    "        tokens2 = [token for token in sent2.tokens if token in model]\n",
    "\n",
    "    sim = model.wmdistance(tokens1, tokens2)\n",
    "\n",
    "    return sim"
   ]
  },
  {
   "cell_type": "code",
   "execution_count": 26,
   "id": "structured-glance",
   "metadata": {
    "execution": {
     "iopub.execute_input": "2021-01-26T06:18:57.815826Z",
     "iopub.status.busy": "2021-01-26T06:18:57.815628Z",
     "iopub.status.idle": "2021-01-26T06:18:57.820115Z",
     "shell.execute_reply": "2021-01-26T06:18:57.819051Z",
     "shell.execute_reply.started": "2021-01-26T06:18:57.815802Z"
    }
   },
   "outputs": [],
   "source": [
    "import os\n",
    "\n",
    "model_path = os.path.join(os.getcwd(), \"data/word2vec/word2vec.bin\")\n",
    "word2vec_path = os.path.join(\n",
    "    os.getcwd(), \"data/word2vec_gz/GoogleNews-vectors-negative300.bin.gz\"\n",
    ")"
   ]
  },
  {
   "cell_type": "code",
   "execution_count": 47,
   "id": "quiet-dubai",
   "metadata": {
    "execution": {
     "iopub.execute_input": "2021-01-26T06:57:36.602409Z",
     "iopub.status.busy": "2021-01-26T06:57:36.602092Z",
     "iopub.status.idle": "2021-01-26T06:57:37.365221Z",
     "shell.execute_reply": "2021-01-26T06:57:37.364450Z",
     "shell.execute_reply.started": "2021-01-26T06:57:36.602368Z"
    }
   },
   "outputs": [
    {
     "name": "stderr",
     "output_type": "stream",
     "text": [
      "<ipython-input-47-66b6aea16f7e>:4: DeprecationWarning: Call to deprecated `syn0` (Attribute will be removed in 4.0.0, use self.vectors instead).\n",
      "  model.syn0norm = model.syn0\n",
      "<ipython-input-47-66b6aea16f7e>:4: DeprecationWarning: Call to deprecated `syn0norm` (Attribute will be removed in 4.0.0, use self.vectors_norm instead).\n",
      "  model.syn0norm = model.syn0\n"
     ]
    }
   ],
   "source": [
    "from gensim.models import KeyedVectors\n",
    "\n",
    "model = KeyedVectors.load(model_path, mmap=\"r\")\n",
    "model.syn0norm = model.syn0"
   ]
  },
  {
   "cell_type": "code",
   "execution_count": 48,
   "id": "basic-packaging",
   "metadata": {
    "execution": {
     "iopub.execute_input": "2021-01-26T06:57:45.578185Z",
     "iopub.status.busy": "2021-01-26T06:57:45.578007Z",
     "iopub.status.idle": "2021-01-26T06:58:21.630415Z",
     "shell.execute_reply": "2021-01-26T06:58:21.629442Z",
     "shell.execute_reply.started": "2021-01-26T06:57:45.578166Z"
    }
   },
   "outputs": [],
   "source": [
    "word2vec = KeyedVectors.load_word2vec_format(word2vec_path, binary=True)"
   ]
  },
  {
   "cell_type": "code",
   "execution_count": 49,
   "id": "extensive-thesis",
   "metadata": {
    "execution": {
     "iopub.execute_input": "2021-01-26T06:58:25.528138Z",
     "iopub.status.busy": "2021-01-26T06:58:25.527905Z",
     "iopub.status.idle": "2021-01-26T06:58:25.532180Z",
     "shell.execute_reply": "2021-01-26T06:58:25.531121Z",
     "shell.execute_reply.started": "2021-01-26T06:58:25.528112Z"
    }
   },
   "outputs": [],
   "source": [
    "s1 = Sentence(\"A man is smoking.\")\n",
    "s2 = Sentence(\"A man is liking.\")"
   ]
  },
  {
   "cell_type": "code",
   "execution_count": 52,
   "id": "accepted-actor",
   "metadata": {
    "execution": {
     "iopub.execute_input": "2021-01-26T06:58:35.549062Z",
     "iopub.status.busy": "2021-01-26T06:58:35.548618Z",
     "iopub.status.idle": "2021-01-26T06:58:35.553779Z",
     "shell.execute_reply": "2021-01-26T06:58:35.552527Z",
     "shell.execute_reply.started": "2021-01-26T06:58:35.548913Z"
    }
   },
   "outputs": [],
   "source": [
    "s1 = Sentence(\"A plane is taking off.\")\n",
    "s2 = Sentence(\"An air plane is taking off.\")"
   ]
  },
  {
   "cell_type": "code",
   "execution_count": 55,
   "id": "interstate-appreciation",
   "metadata": {
    "execution": {
     "iopub.execute_input": "2021-01-26T06:58:42.746206Z",
     "iopub.status.busy": "2021-01-26T06:58:42.745972Z",
     "iopub.status.idle": "2021-01-26T06:58:42.750589Z",
     "shell.execute_reply": "2021-01-26T06:58:42.749378Z",
     "shell.execute_reply.started": "2021-01-26T06:58:42.746181Z"
    }
   },
   "outputs": [],
   "source": [
    "s1 = Sentence(\"A man is playing a flute.\")\n",
    "s2 = Sentence(\"A man is playing a bamboo flute.\")"
   ]
  },
  {
   "cell_type": "code",
   "execution_count": 56,
   "id": "lined-brush",
   "metadata": {
    "execution": {
     "iopub.execute_input": "2021-01-26T06:58:44.490730Z",
     "iopub.status.busy": "2021-01-26T06:58:44.490166Z",
     "iopub.status.idle": "2021-01-26T06:58:44.497235Z",
     "shell.execute_reply": "2021-01-26T06:58:44.496383Z",
     "shell.execute_reply.started": "2021-01-26T06:58:44.490694Z"
    }
   },
   "outputs": [
    {
     "name": "stdout",
     "output_type": "stream",
     "text": [
      "0.9303886\n",
      "0.8953323\n"
     ]
    }
   ],
   "source": [
    "print(run_avg_benchmark(s1, s2, model))\n",
    "print(run_avg_benchmark(s1, s2, word2vec))"
   ]
  },
  {
   "cell_type": "code",
   "execution_count": 57,
   "id": "american-young",
   "metadata": {
    "execution": {
     "iopub.execute_input": "2021-01-26T06:58:48.472954Z",
     "iopub.status.busy": "2021-01-26T06:58:48.472435Z",
     "iopub.status.idle": "2021-01-26T06:58:48.480000Z",
     "shell.execute_reply": "2021-01-26T06:58:48.479045Z",
     "shell.execute_reply.started": "2021-01-26T06:58:48.472915Z"
    }
   },
   "outputs": [
    {
     "name": "stdout",
     "output_type": "stream",
     "text": [
      "0.268616868273288\n",
      "0.8011494848677397\n"
     ]
    }
   ],
   "source": [
    "print(run_wmd_benchmark(s1, s2, model))\n",
    "print(run_wmd_benchmark(s1, s2, word2vec))"
   ]
  },
  {
   "cell_type": "code",
   "execution_count": null,
   "id": "frequent-infrared",
   "metadata": {},
   "outputs": [],
   "source": []
  }
 ],
 "metadata": {
  "kernelspec": {
   "display_name": "Python 3",
   "language": "python",
   "name": "python3"
  },
  "language_info": {
   "codemirror_mode": {
    "name": "ipython",
    "version": 3
   },
   "file_extension": ".py",
   "mimetype": "text/x-python",
   "name": "python",
   "nbconvert_exporter": "python",
   "pygments_lexer": "ipython3",
   "version": "3.8.2"
  }
 },
 "nbformat": 4,
 "nbformat_minor": 5
}
