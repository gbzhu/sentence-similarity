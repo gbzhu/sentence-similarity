{
 "cells": [
  {
   "cell_type": "code",
   "execution_count": 1,
   "metadata": {
    "ExecuteTime": {
     "end_time": "2021-01-12T06:53:10.603953Z",
     "start_time": "2021-01-12T06:53:04.298797Z"
    },
    "execution": {
     "iopub.execute_input": "2021-01-22T07:20:47.180286Z",
     "iopub.status.busy": "2021-01-22T07:20:47.179999Z",
     "iopub.status.idle": "2021-01-22T07:20:51.484606Z",
     "shell.execute_reply": "2021-01-22T07:20:51.484042Z",
     "shell.execute_reply.started": "2021-01-22T07:20:47.180219Z"
    }
   },
   "outputs": [],
   "source": [
    "import tensorflow as tf\n",
    "import pandas as pd\n",
    "import os"
   ]
  },
  {
   "cell_type": "code",
   "execution_count": 2,
   "metadata": {
    "ExecuteTime": {
     "end_time": "2021-01-12T06:53:20.824641Z",
     "start_time": "2021-01-12T06:53:20.818657Z"
    },
    "execution": {
     "iopub.execute_input": "2021-01-22T07:20:52.705500Z",
     "iopub.status.busy": "2021-01-22T07:20:52.705274Z",
     "iopub.status.idle": "2021-01-22T07:20:52.708925Z",
     "shell.execute_reply": "2021-01-22T07:20:52.708230Z",
     "shell.execute_reply.started": "2021-01-22T07:20:52.705475Z"
    }
   },
   "outputs": [],
   "source": [
    "def load_2_sentences(s1,s2):\n",
    "    return pd.DataFrame([(s1,s2,float(0))], columns=[\"sent_1\", \"sent_2\", \"sim\"])\n"
   ]
  },
  {
   "cell_type": "code",
   "execution_count": 3,
   "metadata": {
    "ExecuteTime": {
     "end_time": "2021-01-12T06:53:22.627826Z",
     "start_time": "2021-01-12T06:53:22.618849Z"
    },
    "execution": {
     "iopub.execute_input": "2021-01-22T07:20:53.834826Z",
     "iopub.status.busy": "2021-01-22T07:20:53.834593Z",
     "iopub.status.idle": "2021-01-22T07:20:53.839608Z",
     "shell.execute_reply": "2021-01-22T07:20:53.838743Z",
     "shell.execute_reply.started": "2021-01-22T07:20:53.834801Z"
    }
   },
   "outputs": [],
   "source": [
    "def load_STS_dataset(file_path):\n",
    "    sent_pairs = []\n",
    "    with tf.io.gfile.GFile(file_path, \"r\") as f:\n",
    "        for line in f:\n",
    "            ts = line.strip().split(\"\\t\")\n",
    "            sent_pairs.append((ts[5], ts[6], float(ts[4])))\n",
    "    return pd.DataFrame(sent_pairs, columns=[\"sent_1\", \"sent_2\", \"sim\"])"
   ]
  },
  {
   "cell_type": "code",
   "execution_count": 4,
   "metadata": {
    "ExecuteTime": {
     "end_time": "2021-01-12T06:53:24.883795Z",
     "start_time": "2021-01-12T06:53:24.864846Z"
    },
    "execution": {
     "iopub.execute_input": "2021-01-22T07:20:58.278607Z",
     "iopub.status.busy": "2021-01-22T07:20:58.278378Z",
     "iopub.status.idle": "2021-01-22T07:20:58.288893Z",
     "shell.execute_reply": "2021-01-22T07:20:58.288176Z",
     "shell.execute_reply.started": "2021-01-22T07:20:58.278582Z"
    }
   },
   "outputs": [
    {
     "data": {
      "text/plain": [
       "'/Users/i342202/projects/sentence-similarity'"
      ]
     },
     "execution_count": 4,
     "metadata": {},
     "output_type": "execute_result"
    }
   ],
   "source": [
    "os.getcwd()"
   ]
  },
  {
   "cell_type": "code",
   "execution_count": 5,
   "metadata": {
    "ExecuteTime": {
     "end_time": "2021-01-12T06:53:26.615168Z",
     "start_time": "2021-01-12T06:53:26.569291Z"
    },
    "execution": {
     "iopub.execute_input": "2021-01-22T07:20:59.632140Z",
     "iopub.status.busy": "2021-01-22T07:20:59.631903Z",
     "iopub.status.idle": "2021-01-22T07:20:59.662399Z",
     "shell.execute_reply": "2021-01-22T07:20:59.661765Z",
     "shell.execute_reply.started": "2021-01-22T07:20:59.632114Z"
    }
   },
   "outputs": [],
   "source": [
    "STS_dev = load_STS_dataset(os.path.join(os.getcwd(),'data/stsbenchmark/sts-dev.csv'))\n",
    "STS_test = load_STS_dataset(os.path.join(os.getcwd(),'data/stsbenchmark/sts-test.csv'))"
   ]
  },
  {
   "cell_type": "code",
   "execution_count": 6,
   "metadata": {
    "ExecuteTime": {
     "end_time": "2021-01-12T06:53:27.802996Z",
     "start_time": "2021-01-12T06:53:27.780056Z"
    },
    "execution": {
     "iopub.execute_input": "2021-01-22T07:21:00.044481Z",
     "iopub.status.busy": "2021-01-22T07:21:00.044252Z",
     "iopub.status.idle": "2021-01-22T07:21:00.057561Z",
     "shell.execute_reply": "2021-01-22T07:21:00.056798Z",
     "shell.execute_reply.started": "2021-01-22T07:21:00.044458Z"
    }
   },
   "outputs": [
    {
     "data": {
      "text/html": [
       "<div>\n",
       "<style scoped>\n",
       "    .dataframe tbody tr th:only-of-type {\n",
       "        vertical-align: middle;\n",
       "    }\n",
       "\n",
       "    .dataframe tbody tr th {\n",
       "        vertical-align: top;\n",
       "    }\n",
       "\n",
       "    .dataframe thead th {\n",
       "        text-align: right;\n",
       "    }\n",
       "</style>\n",
       "<table border=\"1\" class=\"dataframe\">\n",
       "  <thead>\n",
       "    <tr style=\"text-align: right;\">\n",
       "      <th></th>\n",
       "      <th>sent_1</th>\n",
       "      <th>sent_2</th>\n",
       "      <th>sim</th>\n",
       "    </tr>\n",
       "  </thead>\n",
       "  <tbody>\n",
       "    <tr>\n",
       "      <th>0</th>\n",
       "      <td>A man with a hard hat is dancing.</td>\n",
       "      <td>A man wearing a hard hat is dancing.</td>\n",
       "      <td>5.000</td>\n",
       "    </tr>\n",
       "    <tr>\n",
       "      <th>1</th>\n",
       "      <td>A young child is riding a horse.</td>\n",
       "      <td>A child is riding a horse.</td>\n",
       "      <td>4.750</td>\n",
       "    </tr>\n",
       "    <tr>\n",
       "      <th>2</th>\n",
       "      <td>A man is feeding a mouse to a snake.</td>\n",
       "      <td>The man is feeding a mouse to the snake.</td>\n",
       "      <td>5.000</td>\n",
       "    </tr>\n",
       "    <tr>\n",
       "      <th>3</th>\n",
       "      <td>A woman is playing the guitar.</td>\n",
       "      <td>A man is playing guitar.</td>\n",
       "      <td>2.400</td>\n",
       "    </tr>\n",
       "    <tr>\n",
       "      <th>4</th>\n",
       "      <td>A woman is playing the flute.</td>\n",
       "      <td>A man is playing a flute.</td>\n",
       "      <td>2.750</td>\n",
       "    </tr>\n",
       "    <tr>\n",
       "      <th>5</th>\n",
       "      <td>A woman is cutting an onion.</td>\n",
       "      <td>A man is cutting onions.</td>\n",
       "      <td>2.615</td>\n",
       "    </tr>\n",
       "  </tbody>\n",
       "</table>\n",
       "</div>"
      ],
      "text/plain": [
       "                                 sent_1  \\\n",
       "0     A man with a hard hat is dancing.   \n",
       "1      A young child is riding a horse.   \n",
       "2  A man is feeding a mouse to a snake.   \n",
       "3        A woman is playing the guitar.   \n",
       "4         A woman is playing the flute.   \n",
       "5          A woman is cutting an onion.   \n",
       "\n",
       "                                     sent_2    sim  \n",
       "0      A man wearing a hard hat is dancing.  5.000  \n",
       "1                A child is riding a horse.  4.750  \n",
       "2  The man is feeding a mouse to the snake.  5.000  \n",
       "3                  A man is playing guitar.  2.400  \n",
       "4                 A man is playing a flute.  2.750  \n",
       "5                  A man is cutting onions.  2.615  "
      ]
     },
     "execution_count": 6,
     "metadata": {},
     "output_type": "execute_result"
    }
   ],
   "source": [
    "STS_dev[:6]"
   ]
  },
  {
   "cell_type": "code",
   "execution_count": 7,
   "metadata": {
    "ExecuteTime": {
     "end_time": "2021-01-12T06:53:28.434309Z",
     "start_time": "2021-01-12T06:53:28.417356Z"
    },
    "execution": {
     "iopub.execute_input": "2021-01-22T07:21:01.660738Z",
     "iopub.status.busy": "2021-01-22T07:21:01.660493Z",
     "iopub.status.idle": "2021-01-22T07:21:01.669558Z",
     "shell.execute_reply": "2021-01-22T07:21:01.668782Z",
     "shell.execute_reply.started": "2021-01-22T07:21:01.660711Z"
    }
   },
   "outputs": [
    {
     "data": {
      "text/html": [
       "<div>\n",
       "<style scoped>\n",
       "    .dataframe tbody tr th:only-of-type {\n",
       "        vertical-align: middle;\n",
       "    }\n",
       "\n",
       "    .dataframe tbody tr th {\n",
       "        vertical-align: top;\n",
       "    }\n",
       "\n",
       "    .dataframe thead th {\n",
       "        text-align: right;\n",
       "    }\n",
       "</style>\n",
       "<table border=\"1\" class=\"dataframe\">\n",
       "  <thead>\n",
       "    <tr style=\"text-align: right;\">\n",
       "      <th></th>\n",
       "      <th>sent_1</th>\n",
       "      <th>sent_2</th>\n",
       "      <th>sim</th>\n",
       "    </tr>\n",
       "  </thead>\n",
       "  <tbody>\n",
       "    <tr>\n",
       "      <th>0</th>\n",
       "      <td>A girl is styling her hair.</td>\n",
       "      <td>A girl is brushing her hair.</td>\n",
       "      <td>2.5</td>\n",
       "    </tr>\n",
       "    <tr>\n",
       "      <th>1</th>\n",
       "      <td>A group of men play soccer on the beach.</td>\n",
       "      <td>A group of boys are playing soccer on the beach.</td>\n",
       "      <td>3.6</td>\n",
       "    </tr>\n",
       "    <tr>\n",
       "      <th>2</th>\n",
       "      <td>One woman is measuring another woman's ankle.</td>\n",
       "      <td>A woman measures another woman's ankle.</td>\n",
       "      <td>5.0</td>\n",
       "    </tr>\n",
       "    <tr>\n",
       "      <th>3</th>\n",
       "      <td>A man is cutting up a cucumber.</td>\n",
       "      <td>A man is slicing a cucumber.</td>\n",
       "      <td>4.2</td>\n",
       "    </tr>\n",
       "    <tr>\n",
       "      <th>4</th>\n",
       "      <td>A man is playing a harp.</td>\n",
       "      <td>A man is playing a keyboard.</td>\n",
       "      <td>1.5</td>\n",
       "    </tr>\n",
       "  </tbody>\n",
       "</table>\n",
       "</div>"
      ],
      "text/plain": [
       "                                          sent_1  \\\n",
       "0                    A girl is styling her hair.   \n",
       "1       A group of men play soccer on the beach.   \n",
       "2  One woman is measuring another woman's ankle.   \n",
       "3                A man is cutting up a cucumber.   \n",
       "4                       A man is playing a harp.   \n",
       "\n",
       "                                             sent_2  sim  \n",
       "0                      A girl is brushing her hair.  2.5  \n",
       "1  A group of boys are playing soccer on the beach.  3.6  \n",
       "2           A woman measures another woman's ankle.  5.0  \n",
       "3                      A man is slicing a cucumber.  4.2  \n",
       "4                      A man is playing a keyboard.  1.5  "
      ]
     },
     "execution_count": 7,
     "metadata": {},
     "output_type": "execute_result"
    }
   ],
   "source": [
    "STS_test[:5]"
   ]
  },
  {
   "cell_type": "code",
   "execution_count": 15,
   "metadata": {
    "ExecuteTime": {
     "end_time": "2021-01-12T06:53:37.494100Z",
     "start_time": "2021-01-12T06:53:34.552960Z"
    },
    "execution": {
     "iopub.execute_input": "2021-01-22T07:22:48.089182Z",
     "iopub.status.busy": "2021-01-22T07:22:48.088654Z",
     "iopub.status.idle": "2021-01-22T07:22:48.099653Z",
     "shell.execute_reply": "2021-01-22T07:22:48.098583Z",
     "shell.execute_reply.started": "2021-01-22T07:22:48.089150Z"
    }
   },
   "outputs": [],
   "source": [
    "import nltk\n",
    "\n",
    "STOP = set(nltk.corpus.stopwords.words(\"english\"))\n",
    "\n",
    "class Sentence:\n",
    "    \n",
    "    def __init__(self, sentence):\n",
    "        self.raw = sentence\n",
    "        normalized_sentence = sentence.replace(\"‘\", \"'\").replace(\"’\", \"'\")\n",
    "        self.tokens = [t.lower() for t in nltk.word_tokenize(normalized_sentence)]\n",
    "        self.tokens_without_stop = [t for t in self.tokens if t not in STOP]"
   ]
  },
  {
   "cell_type": "code",
   "execution_count": 9,
   "metadata": {
    "ExecuteTime": {
     "end_time": "2021-01-12T06:55:53.967153Z",
     "start_time": "2021-01-12T06:55:53.687899Z"
    },
    "execution": {
     "iopub.execute_input": "2021-01-22T07:21:09.565742Z",
     "iopub.status.busy": "2021-01-22T07:21:09.565506Z",
     "iopub.status.idle": "2021-01-22T07:21:09.719043Z",
     "shell.execute_reply": "2021-01-22T07:21:09.718226Z",
     "shell.execute_reply.started": "2021-01-22T07:21:09.565717Z"
    }
   },
   "outputs": [],
   "source": [
    "import gensim\n",
    "import os\n",
    "from gensim.models import Word2Vec, KeyedVectors\n",
    "from threading import Semaphore\n",
    "import pickle"
   ]
  },
  {
   "cell_type": "code",
   "execution_count": 10,
   "metadata": {
    "ExecuteTime": {
     "end_time": "2021-01-12T06:56:13.340253Z",
     "start_time": "2021-01-12T06:55:56.729769Z"
    },
    "execution": {
     "iopub.execute_input": "2021-01-22T07:21:12.030911Z",
     "iopub.status.busy": "2021-01-22T07:21:12.030640Z",
     "iopub.status.idle": "2021-01-22T07:21:18.148595Z",
     "shell.execute_reply": "2021-01-22T07:21:18.147992Z",
     "shell.execute_reply.started": "2021-01-22T07:21:12.030876Z"
    }
   },
   "outputs": [],
   "source": [
    "path_word2vec =os.path.join(os.getcwd(),'data/word2vec_gz/GoogleNews-vectors-negative300.bin.gz')\n",
    "word2vec = gensim.models.KeyedVectors.load_word2vec_format(path_word2vec, binary=True,limit=500000)"
   ]
  },
  {
   "cell_type": "code",
   "execution_count": 16,
   "metadata": {
    "ExecuteTime": {
     "end_time": "2021-01-08T07:02:50.335780Z",
     "start_time": "2021-01-08T07:02:50.330790Z"
    }
   },
   "outputs": [],
   "source": [
    "PATH_TO_FREQUENCIES_FILE =os.path.join(os.getcwd(),'data\\\\frequencies.tsv')\n",
    "PATH_TO_DOC_FREQUENCIES_FILE = os.path.join(os.getcwd(),'data\\\\doc_frequencies.tsv')"
   ]
  },
  {
   "cell_type": "code",
   "execution_count": 17,
   "metadata": {
    "ExecuteTime": {
     "end_time": "2021-01-08T07:02:52.001322Z",
     "start_time": "2021-01-08T07:02:51.995338Z"
    }
   },
   "outputs": [],
   "source": [
    "import csv\n",
    "def read_tsv(f):\n",
    "    frequencies = {}\n",
    "    with open(f) as tsv:\n",
    "        tsv_reader = csv.reader(tsv, delimiter=\"\\t\")\n",
    "        for row in tsv_reader: \n",
    "            frequencies[row[0]] = int(row[1])\n",
    "    return frequencies"
   ]
  },
  {
   "cell_type": "code",
   "execution_count": 18,
   "metadata": {
    "ExecuteTime": {
     "end_time": "2021-01-08T07:03:02.447384Z",
     "start_time": "2021-01-08T07:02:53.133295Z"
    }
   },
   "outputs": [],
   "source": [
    "frequencies = read_tsv(PATH_TO_FREQUENCIES_FILE)\n",
    "doc_frequencies = read_tsv(PATH_TO_DOC_FREQUENCIES_FILE)\n",
    "doc_frequencies[\"NUM_DOCS\"] = 1288431"
   ]
  },
  {
   "cell_type": "code",
   "execution_count": 11,
   "metadata": {
    "ExecuteTime": {
     "end_time": "2021-01-08T07:38:52.763511Z",
     "start_time": "2021-01-08T07:38:50.209887Z"
    },
    "execution": {
     "iopub.execute_input": "2021-01-22T07:21:27.000103Z",
     "iopub.status.busy": "2021-01-22T07:21:26.999861Z",
     "iopub.status.idle": "2021-01-22T07:21:27.010650Z",
     "shell.execute_reply": "2021-01-22T07:21:27.009551Z",
     "shell.execute_reply.started": "2021-01-22T07:21:27.000078Z"
    }
   },
   "outputs": [],
   "source": [
    "from sklearn.metrics.pairwise import cosine_similarity\n",
    "import numpy as np\n",
    "from collections import Counter\n",
    "import math\n",
    "def run_avg_benchmark(sentences1, sentences2, model=None, use_stoplist=False, doc_freqs=None): \n",
    "\n",
    "    if doc_freqs is not None:\n",
    "        N = doc_freqs[\"NUM_DOCS\"]\n",
    "    \n",
    "    sims = []\n",
    "    for (sent1, sent2) in zip(sentences1, sentences2):\n",
    "    \n",
    "        tokens1 = sent1.tokens_without_stop if use_stoplist else sent1.tokens\n",
    "        tokens2 = sent2.tokens_without_stop if use_stoplist else sent2.tokens\n",
    "\n",
    "        tokens1 = [token for token in tokens1 if token in model]\n",
    "        tokens2 = [token for token in tokens2 if token in model]\n",
    "        \n",
    "        if len(tokens1) == 0 or len(tokens2) == 0:\n",
    "            sims.append(0)\n",
    "            continue\n",
    "        \n",
    "        tokfreqs1 = Counter(tokens1)\n",
    "        tokfreqs2 = Counter(tokens2)\n",
    "        \n",
    "        weights1 = [tokfreqs1[token] * math.log(N/(doc_freqs.get(token, 0)+1)) \n",
    "                    for token in tokfreqs1] if doc_freqs else None\n",
    "        weights2 = [tokfreqs2[token] * math.log(N/(doc_freqs.get(token, 0)+1)) \n",
    "                    for token in tokfreqs2] if doc_freqs else None\n",
    "                \n",
    "        embedding1 = np.average([model[token] for token in tokfreqs1], axis=0, weights=weights1).reshape(1, -1)\n",
    "        embedding2 = np.average([model[token] for token in tokfreqs2], axis=0, weights=weights2).reshape(1, -1)\n",
    "\n",
    "        sim = cosine_similarity(embedding1, embedding2)[0][0]\n",
    "        sims.append(sim)\n",
    "\n",
    "    return sims"
   ]
  },
  {
   "cell_type": "code",
   "execution_count": 12,
   "metadata": {
    "ExecuteTime": {
     "end_time": "2021-01-08T08:04:11.274601Z",
     "start_time": "2021-01-08T08:04:11.264664Z"
    },
    "execution": {
     "iopub.execute_input": "2021-01-22T07:21:32.397999Z",
     "iopub.status.busy": "2021-01-22T07:21:32.397763Z",
     "iopub.status.idle": "2021-01-22T07:21:32.403449Z",
     "shell.execute_reply": "2021-01-22T07:21:32.402547Z",
     "shell.execute_reply.started": "2021-01-22T07:21:32.397974Z"
    }
   },
   "outputs": [],
   "source": [
    "import scipy\n",
    "def run_experiment(df, benchmarks): \n",
    "    \n",
    "    sentences1 = [Sentence(s) for s in df['sent_1']]\n",
    "    sentences2 = [Sentence(s) for s in df['sent_2']]\n",
    "    \n",
    "    pearson_cors, spearman_cors = [], []\n",
    "    for label, method in benchmarks:\n",
    "        sims = method(sentences1, sentences2)\n",
    "        pearson_correlation = scipy.stats.pearsonr(sims, df['sim'])[0]\n",
    "        print(label, pearson_correlation)\n",
    "        pearson_cors.append(pearson_correlation)\n",
    "        spearman_correlation = scipy.stats.spearmanr(sims, df['sim'])[0]\n",
    "        spearman_cors.append(spearman_correlation)\n",
    "        \n",
    "    return pearson_cors, spearman_cors"
   ]
  },
  {
   "cell_type": "code",
   "execution_count": 16,
   "metadata": {
    "ExecuteTime": {
     "end_time": "2021-01-08T08:06:18.898118Z",
     "start_time": "2021-01-08T08:06:18.894129Z"
    },
    "execution": {
     "iopub.execute_input": "2021-01-22T07:22:56.092777Z",
     "iopub.status.busy": "2021-01-22T07:22:56.092480Z",
     "iopub.status.idle": "2021-01-22T07:22:56.097302Z",
     "shell.execute_reply": "2021-01-22T07:22:56.096206Z",
     "shell.execute_reply.started": "2021-01-22T07:22:56.092749Z"
    }
   },
   "outputs": [],
   "source": [
    "import functools as ft\n",
    "\n",
    "benchmarks = [(\"SIF-W2V\", ft.partial(run_avg_benchmark, model=word2vec, use_stoplist=False))]"
   ]
  },
  {
   "cell_type": "code",
   "execution_count": 17,
   "metadata": {
    "ExecuteTime": {
     "end_time": "2021-01-08T08:06:26.651416Z",
     "start_time": "2021-01-08T08:06:23.945499Z"
    },
    "execution": {
     "iopub.execute_input": "2021-01-22T07:22:57.333179Z",
     "iopub.status.busy": "2021-01-22T07:22:57.332944Z",
     "iopub.status.idle": "2021-01-22T07:22:58.807501Z",
     "shell.execute_reply": "2021-01-22T07:22:58.806706Z",
     "shell.execute_reply.started": "2021-01-22T07:22:57.333154Z"
    }
   },
   "outputs": [
    {
     "name": "stdout",
     "output_type": "stream",
     "text": [
      "SIF-W2V 0.7015813358771543\n",
      "SIF-W2V 0.60572531231956\n"
     ]
    }
   ],
   "source": [
    "pearson_results, spearman_results = {}, {}\n",
    "pearson_results[\"STS-DEV\"], spearman_results[\"STS-DEV\"] = run_experiment(STS_dev, benchmarks)\n",
    "pearson_results[\"STS-TEST\"], spearman_results[\"STS-TEST\"] = run_experiment(STS_test, benchmarks)  "
   ]
  },
  {
   "cell_type": "code",
   "execution_count": 6,
   "metadata": {
    "ExecuteTime": {
     "end_time": "2020-11-25T08:03:03.567176Z",
     "start_time": "2020-11-25T08:02:49.862161Z"
    },
    "execution": {
     "iopub.execute_input": "2021-01-21T09:51:01.630311Z",
     "iopub.status.busy": "2021-01-21T09:51:01.629747Z",
     "iopub.status.idle": "2021-01-21T09:51:04.319411Z",
     "shell.execute_reply": "2021-01-21T09:51:04.318500Z",
     "shell.execute_reply.started": "2021-01-21T09:51:01.630271Z"
    }
   },
   "outputs": [],
   "source": [
    "word2vec.init_sims(replace=True)\n",
    "word2vec.save(\"data/word2vec/word2vec.bin\")"
   ]
  },
  {
   "cell_type": "code",
   "execution_count": 19,
   "metadata": {
    "execution": {
     "iopub.execute_input": "2021-01-22T07:26:13.399661Z",
     "iopub.status.busy": "2021-01-22T07:26:13.399428Z",
     "iopub.status.idle": "2021-01-22T07:26:14.335378Z",
     "shell.execute_reply": "2021-01-22T07:26:14.334733Z",
     "shell.execute_reply.started": "2021-01-22T07:26:13.399636Z"
    }
   },
   "outputs": [
    {
     "name": "stderr",
     "output_type": "stream",
     "text": [
      "<ipython-input-19-bab9b0c3a2c1>:3: DeprecationWarning: Call to deprecated `syn0` (Attribute will be removed in 4.0.0, use self.vectors instead).\n",
      "  model.syn0norm = model.syn0\n",
      "<ipython-input-19-bab9b0c3a2c1>:3: DeprecationWarning: Call to deprecated `syn0norm` (Attribute will be removed in 4.0.0, use self.vectors_norm instead).\n",
      "  model.syn0norm = model.syn0\n"
     ]
    }
   ],
   "source": [
    "model_path = os.path.join(os.getcwd(),'data/word2vec/word2vec.bin')\n",
    "model = KeyedVectors.load(model_path, mmap='r')\n",
    "model.syn0norm = model.syn0"
   ]
  },
  {
   "cell_type": "code",
   "execution_count": null,
   "metadata": {},
   "outputs": [],
   "source": []
  }
 ],
 "metadata": {
  "hide_input": false,
  "kernelspec": {
   "display_name": "Python 3",
   "language": "python",
   "name": "python3"
  },
  "language_info": {
   "codemirror_mode": {
    "name": "ipython",
    "version": 3
   },
   "file_extension": ".py",
   "mimetype": "text/x-python",
   "name": "python",
   "nbconvert_exporter": "python",
   "pygments_lexer": "ipython3",
   "version": "3.8.2"
  }
 },
 "nbformat": 4,
 "nbformat_minor": 4
}
